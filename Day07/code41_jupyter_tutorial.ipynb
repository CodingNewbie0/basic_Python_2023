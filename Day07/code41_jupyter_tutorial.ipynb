{
 "cells": [
  {
   "attachments": {},
   "cell_type": "markdown",
   "metadata": {},
   "source": [
    "# 주피터 노트북 사용법 학습\n",
    "## 마크다운, 파이썬 셀을 추가\n",
    "- 현재 셀 앞에 셀 추가 : a\n",
    "- 현재 셀 뒤에 셀 추가 : b\n",
    "- 현재 셀을 마크다운으로 변경 : 포커스(커서가 깜빡거리지 않는)만 있는 상태 m\n",
    "- 현재 센을 코드 셀로 변경 : 포커스 상태 y"
   ]
  },
  {
   "cell_type": "code",
   "execution_count": 1,
   "metadata": {},
   "outputs": [],
   "source": [
    "# 최초 작성된 Pyfhon 셀"
   ]
  },
  {
   "attachments": {},
   "cell_type": "markdown",
   "metadata": {},
   "source": [
    "## 파이썬 셀 실행\n",
    "- 셀 실행 : Ctrl + Enter\n",
    "- 셀 실행후, 다음 셀로 이동(다음 셀 없으면 생성) : Shift + Enter\n",
    "- 셀 실행, 다음셀 생성 : Alt + Enter\n",
    "- 주석 처리 : ctrl + / 또는 Ctrl + K,C"
   ]
  },
  {
   "cell_type": "code",
   "execution_count": 2,
   "metadata": {},
   "outputs": [
    {
     "name": "stdout",
     "output_type": "stream",
     "text": [
      "Hello, jupyter!!\n"
     ]
    }
   ],
   "source": [
    "print('Hello, jupyter!!')\n",
    "# print('Hello, jupyter!!')\n"
   ]
  },
  {
   "attachments": {},
   "cell_type": "markdown",
   "metadata": {},
   "source": [
    "## 디버깅!!\n",
    "아무리 강조해도 지나치지 않습니다."
   ]
  },
  {
   "cell_type": "code",
   "execution_count": 3,
   "metadata": {},
   "outputs": [
    {
     "name": "stdout",
     "output_type": "stream",
     "text": [
      "1\n",
      "2\n",
      "True\n",
      "hello\n",
      "3.141596585\n"
     ]
    }
   ],
   "source": [
    "arr = [1, '2', True, 'hello', 3.141596585]\n",
    "\n",
    "for i in arr:\n",
    "    print(i)"
   ]
  },
  {
   "cell_type": "markdown",
   "metadata": {},
   "source": [
    "## 함수 디버깅"
   ]
  },
  {
   "cell_type": "code",
   "execution_count": 4,
   "metadata": {},
   "outputs": [
    {
     "name": "stdout",
     "output_type": "stream",
     "text": [
      "더하기\n",
      "14\n"
     ]
    }
   ],
   "source": [
    "def plus(x, y):\n",
    "    val = x + y\n",
    "    return val\n",
    "\n",
    "def div(x, y):\n",
    "    val = x / y,\n",
    "    return val\n",
    "    \n",
    "print('더하기')\n",
    "print(plus(10, 4))"
   ]
  },
  {
   "cell_type": "code",
   "execution_count": 10,
   "metadata": {},
   "outputs": [
    {
     "name": "stdout",
     "output_type": "stream",
     "text": [
      "나누기\n"
     ]
    },
    {
     "ename": "ZeroDivisionError",
     "evalue": "division by zero",
     "output_type": "error",
     "traceback": [
      "\u001b[1;31m---------------------------------------------------------------------------\u001b[0m",
      "\u001b[1;31mZeroDivisionError\u001b[0m                         Traceback (most recent call last)",
      "Cell \u001b[1;32mIn[10], line 2\u001b[0m\n\u001b[0;32m      1\u001b[0m \u001b[39mprint\u001b[39m(\u001b[39m'\u001b[39m\u001b[39m나누기\u001b[39m\u001b[39m'\u001b[39m)\n\u001b[1;32m----> 2\u001b[0m \u001b[39mprint\u001b[39m(div(\u001b[39m10\u001b[39;49m, \u001b[39m0\u001b[39;49m))\n",
      "Cell \u001b[1;32mIn[4], line 6\u001b[0m, in \u001b[0;36mdiv\u001b[1;34m(x, y)\u001b[0m\n\u001b[0;32m      5\u001b[0m \u001b[39mdef\u001b[39;00m \u001b[39mdiv\u001b[39m(x, y):\n\u001b[1;32m----> 6\u001b[0m     val \u001b[39m=\u001b[39m x \u001b[39m/\u001b[39;49m y,\n\u001b[0;32m      7\u001b[0m     \u001b[39mreturn\u001b[39;00m val\n",
      "\u001b[1;31mZeroDivisionError\u001b[0m: division by zero"
     ]
    }
   ],
   "source": [
    "print('나누기')\n",
    "print(div(10, 0))"
   ]
  },
  {
   "cell_type": "code",
   "execution_count": 6,
   "metadata": {},
   "outputs": [
    {
     "name": "stdout",
     "output_type": "stream",
     "text": [
      "[1, '2', True, 'hello', 3.141596585]\n"
     ]
    }
   ],
   "source": [
    "print(arr)"
   ]
  },
  {
   "cell_type": "code",
   "execution_count": 7,
   "metadata": {},
   "outputs": [
    {
     "data": {
      "text/plain": [
       "[1, '2', True, 'hello', 3.141596585]"
      ]
     },
     "execution_count": 7,
     "metadata": {},
     "output_type": "execute_result"
    }
   ],
   "source": [
    "arr"
   ]
  },
  {
   "attachments": {},
   "cell_type": "markdown",
   "metadata": {},
   "source": [
    "### list(array) for문 예제"
   ]
  },
  {
   "cell_type": "code",
   "execution_count": 8,
   "metadata": {},
   "outputs": [
    {
     "data": {
      "text/plain": [
       "<enumerate at 0x1a35f4909f0>"
      ]
     },
     "execution_count": 8,
     "metadata": {},
     "output_type": "execute_result"
    }
   ],
   "source": [
    "enumerate(arr)"
   ]
  },
  {
   "cell_type": "code",
   "execution_count": 9,
   "metadata": {},
   "outputs": [
    {
     "name": "stdout",
     "output_type": "stream",
     "text": [
      "0 = 1\n",
      "1 = 2\n",
      "2 = True\n",
      "3 = hello\n",
      "4 = 3.141596585\n"
     ]
    }
   ],
   "source": [
    "for i, item in enumerate(arr):\n",
    "    print(f'{i} = {item}')"
   ]
  }
 ],
 "metadata": {
  "kernelspec": {
   "display_name": "venv",
   "language": "python",
   "name": "python3"
  },
  "language_info": {
   "codemirror_mode": {
    "name": "ipython",
    "version": 3
   },
   "file_extension": ".py",
   "mimetype": "text/x-python",
   "name": "python",
   "nbconvert_exporter": "python",
   "pygments_lexer": "ipython3",
   "version": "3.11.1"
  },
  "orig_nbformat": 4,
  "vscode": {
   "interpreter": {
    "hash": "1732cc55dde7803caebda0df0f1738cc035ced225322b7cf344f368c2c40d995"
   }
  }
 },
 "nbformat": 4,
 "nbformat_minor": 2
}
