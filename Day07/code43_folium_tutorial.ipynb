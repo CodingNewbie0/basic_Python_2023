{
 "cells": [
  {
   "attachments": {},
   "cell_type": "markdown",
   "metadata": {},
   "source": [
    "# Folium 지도사용법\n",
    "\n",
    "## 라이브러리 설치\n",
    "```shell\n",
    ">  pip install folium\n",
    "```"
   ]
  },
  {
   "cell_type": "code",
   "execution_count": null,
   "metadata": {},
   "outputs": [],
   "source": [
    "!pip install folium"
   ]
  },
  {
   "attachments": {},
   "cell_type": "markdown",
   "metadata": {},
   "source": [
    "## 라이브러리 import\n",
    "```import folium```\n",
    "\n",
    "folium 공식사이트 : https://python-visualization.github.io/folium/"
   ]
  },
  {
   "cell_type": "code",
   "execution_count": 5,
   "metadata": {},
   "outputs": [],
   "source": [
    "import folium\n",
    "# folium 공식사이트 : https://python-visualization.github.io/folium/"
   ]
  },
  {
   "attachments": {},
   "cell_type": "markdown",
   "metadata": {},
   "source": [
    "## 시작\n",
    "\n",
    "위도, 경도로 표시 (35.117479, 129.090393)"
   ]
  },
  {
   "cell_type": "code",
   "execution_count": null,
   "metadata": {},
   "outputs": [],
   "source": [
    "# location [위도, 경도], zoom_start=1~18(최대)\n",
    "m = folium.Map(location=[35.117479, 129.090393], zoom_start=15, zoom_control=True)\n",
    "m"
   ]
  },
  {
   "attachments": {},
   "cell_type": "markdown",
   "metadata": {},
   "source": [
    "### 지도 표현맵 옵션 변경\n",
    "Jupyter notebook에서는 표현안되는 옵션 존재(대소문자 구분X)\n",
    "- 종류\n",
    "    - OpenStreetMap (default<기본값>)\n",
    "    - Stamen Terrain (산 높낮이로 표현)\n",
    "    - Stamen Toner (흑백으로 간략하게 표현)\n",
    "    - Stamen Water Color (옛날지도처럼 보임)\n",
    "    - cartodbpositron (길찾기 지도)\n",
    "    - cartodbdark_matter (길찾기 지도 어두운버젼)\n",
    "    - Mapbox Bright - 주피터 노트북 사용불가\n",
    "    - Mapbox Control room tiles - 주피터 노트북 사용불가\n",
    "    - ...\n"
   ]
  },
  {
   "cell_type": "code",
   "execution_count": null,
   "metadata": {},
   "outputs": [],
   "source": [
    "m = folium.Map(location=[35.117479, 129.090393], zoom_start=13, tiles='OpenStreetMap')\n",
    "m"
   ]
  },
  {
   "attachments": {},
   "cell_type": "markdown",
   "metadata": {},
   "source": [
    "### 마커표시\n",
    "아이콘은 부트스트랩 아이콘 사용(웹 html, css)\n",
    "\n",
    "https://getbootstrap.com/docs/3.3/components/ <- 아이콘바꿀때 참고하는 사이트"
   ]
  },
  {
   "cell_type": "code",
   "execution_count": null,
   "metadata": {},
   "outputs": [],
   "source": [
    "# popup = 팝업창으로 설명, color = 색깔바꾸기, icon = 아이콘바꾸기\n",
    "# https://getbootstrap.com/docs/3.3/components/ <- 아이콘바꿀때 참고하는 사이트\n",
    "m = folium.Map(location=[35.117479, 129.090393], zoom_start=14)\n",
    "folium.Marker(location=[35.117479, 129.090393], popup='부경대 용당캠퍼스', icon=folium.Icon(color='green', icon='leaf')).add_to(m)\n",
    "m"
   ]
  },
  {
   "attachments": {},
   "cell_type": "markdown",
   "metadata": {},
   "source": [
    "### 마커 커스터마이즈\n",
    "```python \n",
    "iframe = folium.IFrame('<h3>부경대학교<h3><br>' +\n",
    "                       '용당캠퍼스<br>' + \n",
    "                       '지역산업맞춤사업단')\n",
    "popup = folium.Popup(iframe, min_width = 300, max_width = 350)\n",
    "```"
   ]
  },
  {
   "cell_type": "code",
   "execution_count": null,
   "metadata": {},
   "outputs": [],
   "source": [
    "m = folium.Map(location=[35.117479, 129.090393], zoom_start=14)\n",
    "iframe = folium.IFrame('<h3>부경대학교<h3><br>' +\n",
    "                       '용당캠퍼스<br>' + \n",
    "                       '지역산업맞춤사업단')\n",
    "popup = folium.Popup(iframe, min_width = 300, max_width = 350)\n",
    "folium.Marker(location=[35.117479, 129.090393], \n",
    "              popup=popup, \n",
    "              icon=folium.Icon(color='green', icon='leaf')).add_to(m)\n",
    "m"
   ]
  },
  {
   "attachments": {},
   "cell_type": "markdown",
   "metadata": {},
   "source": [
    "## GeoJson으로 영역표시\n",
    "### 서울시 자치구 영역"
   ]
  },
  {
   "cell_type": "code",
   "execution_count": null,
   "metadata": {},
   "outputs": [],
   "source": [
    "import json\n",
    "\n",
    "fileName = './seoul_municipalities_geo_simple.json'\n",
    "m = folium.Map(location=[37.566345, 126.977893], zoom_start=11)\n",
    "gfile = open(fileName, 'r', encoding='utf-8').read()\n",
    "jsondata = json.loads(gfile) # json 파일 텍스트를 전부 읽어옴\n",
    "folium.GeoJson(jsondata, name='서울 지역경계').add_to(m)\n",
    "m.save('./index.html') # 웹페이지로 저장\n",
    "m"
   ]
  },
  {
   "cell_type": "markdown",
   "metadata": {},
   "source": [
    "## 대한민국 영역 표시"
   ]
  },
  {
   "cell_type": "code",
   "execution_count": null,
   "metadata": {},
   "outputs": [],
   "source": [
    "import json\n",
    "\n",
    "fileName = './skorea-provinces-2018-geo.json'\n",
    "m = folium.Map(location=[37.566345, 126.977893], zoom_start=7)\n",
    "gfile = open(fileName, 'r', encoding='utf-8').read()\n",
    "jsondata = json.loads(gfile) # json 파일 텍스트를 전부 읽어옴\n",
    "folium.GeoJson(jsondata, name='대한민국 시도경계').add_to(m)\n",
    "m\n"
   ]
  },
  {
   "attachments": {},
   "cell_type": "markdown",
   "metadata": {},
   "source": [
    "### 위경도 팝업\n",
    "\n",
    "마우스 클릭하는 위치의 위경도를 팝업 표시\n",
    "```python\n",
    "# 위경도 팝업\n",
    "m.add_child(folium.LatLngPopup())\n",
    "```"
   ]
  },
  {
   "cell_type": "code",
   "execution_count": null,
   "metadata": {},
   "outputs": [],
   "source": [
    "m = folium.Map(location=[35.117479, 129.090393], zoom_start=15, tiles='OpenStreetMap')\n",
    "# 위경도 팝업\n",
    "m.add_child(folium.LatLngPopup())\n",
    "m"
   ]
  },
  {
   "cell_type": "markdown",
   "metadata": {},
   "source": [
    "### Polylines"
   ]
  },
  {
   "cell_type": "code",
   "execution_count": null,
   "metadata": {},
   "outputs": [],
   "source": [
    "m = folium.Map(location=[35.1508, 129.0904], zoom_start=13, tiles='OpenStreetMap')\n",
    "# 위경도 팝업\n",
    "m.add_child(folium.LatLngPopup())\n",
    "\n",
    "# gps 경로값\n",
    "gps_coord = [\n",
    "    (35.1844, 129.1184),\n",
    "    (35.1755, 129.1220),\n",
    "    (35.1589, 129.1358),\n",
    "    (35.1572, 129.1368),\n",
    "    (35.1562, 129.1370),\n",
    "    (35.1546, 129.1367),\n",
    "    (35.1379, 129.1209),\n",
    "    (35.1365, 129.1179),\n",
    "    (35.1356, 129.1112),\n",
    "]\n",
    "folium.PolyLine(gps_coord, tooltip='광안대교 통행').add_to(m)\n",
    "m"
   ]
  },
  {
   "attachments": {},
   "cell_type": "markdown",
   "metadata": {},
   "source": [
    "### Choropleth map(등치 지도)\n",
    "서울 도서관 분포도차트 다운로드 주소 : https://m.blog.naver.com/rackhunson/222402093965\n",
    "### 추가라이브러리\n",
    "Pandas ( 데이터 분석 라이브러리)"
   ]
  },
  {
   "cell_type": "code",
   "execution_count": 60,
   "metadata": {},
   "outputs": [
    {
     "name": "stdout",
     "output_type": "stream",
     "text": [
      "Requirement already satisfied: pandas in c:\\source\\studypython2023\\venv\\lib\\site-packages (1.5.3)\n",
      "Requirement already satisfied: python-dateutil>=2.8.1 in c:\\source\\studypython2023\\venv\\lib\\site-packages (from pandas) (2.8.2)\n",
      "Requirement already satisfied: pytz>=2020.1 in c:\\source\\studypython2023\\venv\\lib\\site-packages (from pandas) (2022.7.1)\n",
      "Requirement already satisfied: numpy>=1.21.0 in c:\\source\\studypython2023\\venv\\lib\\site-packages (from pandas) (1.24.2)\n",
      "Requirement already satisfied: six>=1.5 in c:\\source\\studypython2023\\venv\\lib\\site-packages (from python-dateutil>=2.8.1->pandas) (1.16.0)\n"
     ]
    },
    {
     "name": "stderr",
     "output_type": "stream",
     "text": [
      "\n",
      "[notice] A new release of pip available: 22.3.1 -> 23.0\n",
      "[notice] To update, run: python.exe -m pip install --upgrade pip\n"
     ]
    }
   ],
   "source": [
    "# 서울 도서관 분포도차트 다운로드 주소 : https://m.blog.naver.com/rackhunson/222402093965\n",
    "\n",
    "!pip install pandas"
   ]
  },
  {
   "cell_type": "code",
   "execution_count": null,
   "metadata": {},
   "outputs": [],
   "source": [
    "import pandas as pd\n",
    "library = pd.read_csv('./data/Library.csv')\n",
    "# seoul_boundary = gpd.read_file()"
   ]
  },
  {
   "attachments": {},
   "cell_type": "markdown",
   "metadata": {},
   "source": [
    "판다스학습은 다음에"
   ]
  }
 ],
 "metadata": {
  "kernelspec": {
   "display_name": "venv",
   "language": "python",
   "name": "python3"
  },
  "language_info": {
   "codemirror_mode": {
    "name": "ipython",
    "version": 3
   },
   "file_extension": ".py",
   "mimetype": "text/x-python",
   "name": "python",
   "nbconvert_exporter": "python",
   "pygments_lexer": "ipython3",
   "version": "3.11.1"
  },
  "orig_nbformat": 4,
  "vscode": {
   "interpreter": {
    "hash": "1732cc55dde7803caebda0df0f1738cc035ced225322b7cf344f368c2c40d995"
   }
  }
 },
 "nbformat": 4,
 "nbformat_minor": 2
}
