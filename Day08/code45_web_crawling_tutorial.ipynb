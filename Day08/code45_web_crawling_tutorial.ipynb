{
 "cells": [
  {
   "attachments": {},
   "cell_type": "markdown",
   "metadata": {},
   "source": [
    "## 웹 크롤링\n",
    "\n",
    "### 인터넷 접속 라이브러리 추가\n",
    "\n",
    "- urllic.request 모듈로 작업\n",
    "- html 소스로"
   ]
  },
  {
   "cell_type": "code",
   "execution_count": 34,
   "metadata": {},
   "outputs": [
    {
     "name": "stdout",
     "output_type": "stream",
     "text": [
      "부산의 현재 기온은 11.6˚C 입니다.\n",
      "부산의 현재 습도는 26% 입니다.\n"
     ]
    }
   ],
   "source": [
    "# web_crawling\n",
    "from urllib.request import urlopen, Request\n",
    "\n",
    "# 도시별 날씨 검색함수\n",
    "def get_weather(city):\n",
    "\n",
    "    # 기상청 홈페이지 도시별 날씨 페이지\n",
    "    url = 'https://www.weather.go.kr/w/obs-climate/land/city-obs.do'\n",
    "    page = urlopen(url=url)\n",
    "\n",
    "    text = page.read().decode('utf-8')\n",
    "    text = text[text.find(f'>{city}</a>'):]\n",
    "\n",
    "    # 기온 가져오기\n",
    "    for i in range(7): # (반복문 13번 돌기)\n",
    "        text = text[text.find('<td>')+1:]\n",
    "\n",
    "    start = 3\n",
    "    end = text.find('</td>')\n",
    "    current_temp = text[start:end]\n",
    "    print(f'{city}의 현재 기온은 {current_temp}˚C 입니다.')\n",
    "\n",
    "    # 습도 가져오기\n",
    "    for i in range(3):\n",
    "        text = text[text.find('<td>')+1:]\n",
    "\n",
    "    start = 3\n",
    "    end = text.find('</td>')\n",
    "    current_humid = text[start:end]\n",
    "    print(f'{city}의 현재 습도는 {current_humid}% 입니다.')\n",
    "\n",
    "get_weather('부산')\n"
   ]
  },
  {
   "attachments": {},
   "cell_type": "markdown",
   "metadata": {},
   "source": [
    "### Open API 크롤링\n",
    "\n",
    "- 공공데이터 포털\n",
    "    - https://www.data.go.kr\n",
    "    - 부산광역시 버스정보안내기 현황\n",
    "\n",
    "```python\n",
    "response = requests.get(total_url, verify=False)\n",
    "```\n",
    "- 문제점\n",
    "    - https를 일반 requesr로 부르면 SSL 오류발생\n",
    "    - 해결하려면 외부모듈 requests를 사용, verify=False 옵션을 지정\n",
    "    - 아래 셀의 19번 라인!\n"
   ]
  },
  {
   "cell_type": "code",
   "execution_count": 53,
   "metadata": {},
   "outputs": [
    {
     "name": "stdout",
     "output_type": "stream",
     "text": [
      "{'stationNum': '07006', 'stationLoc': '경성대.부경대역', 'lat': '35.13856124', 'lng': '129.1023074', 'addr': '남구 대연3동 93-7', 'insYear': '', 'dataDay': '2023-02-03'}\n",
      "{'stationNum': '07007', 'stationLoc': '경성대.부경대역', 'lat': '35.13837971', 'lng': '129.1024864', 'addr': '남구 대연3동 90-2', 'insYear': '', 'dataDay': '2023-02-03'}\n",
      "{'stationNum': '07011', 'stationLoc': '부경대대연캠퍼스', 'lat': '35.13287689', 'lng': '129.1012804', 'addr': '남구 대연3동 531-2', 'insYear': '', 'dataDay': '2023-02-03'}\n",
      "{'stationNum': '07012', 'stationLoc': '부경대대연캠퍼스', 'lat': '35.13234515', 'lng': '129.1010586', 'addr': '남구 대연3동 537-1', 'insYear': '', 'dataDay': '2023-02-03'}\n"
     ]
    },
    {
     "name": "stderr",
     "output_type": "stream",
     "text": [
      "c:\\Source\\studyPython2023\\venv\\Lib\\site-packages\\urllib3\\connectionpool.py:1045: InsecureRequestWarning: Unverified HTTPS request is being made to host 'apis.data.go.kr'. Adding certificate verification is strongly advised. See: https://urllib3.readthedocs.io/en/1.26.x/advanced-usage.html#ssl-warnings\n",
      "  warnings.warn(\n"
     ]
    }
   ],
   "source": [
    "import requests\n",
    "from urllib.parse import quote, unquote, urlencode # 한글을 URLencode 변환하는 함수 (롯데 -> '%EB%A1%AF%EB%8D%B0')\n",
    "import json\n",
    "import ssl\n",
    "# stationName 정류소이름\n",
    "def getDataPortalSearch(stationName, type):\n",
    "    api_url = 'https://apis.data.go.kr/6260000/BusanTblBusinfoeqStusService/getTblBusinfoeqStusInfo'\n",
    "    queryString = \"?\" + urlencode(\n",
    "        {\n",
    "            'serviceKey': \"QV07JxJiPdVu/Sr88U+Hqgb+49h2kFTgYLR+jjBi7qUgzKHV0uqnZgEVFWkMXEO9SZUyIrQtNzbOETFkup9wTg==\",\n",
    "            'pageNo': '1',\n",
    "            'numOfRows': '10',\n",
    "            'resultType': type,\n",
    "            'stationLoc': stationName\n",
    "        }\n",
    "    )\n",
    "\n",
    "    total_url = api_url + queryString\n",
    "    response = requests.get(total_url, verify=False)\n",
    "    return response.text\n",
    "try:\n",
    "    result = getDataPortalSearch('부경대', 'json')\n",
    "    json_data = json.loads(result)\n",
    "\n",
    "    station_data = json_data['getTblBusinfoeqStusInfo']['body']['items']['item']\n",
    "\n",
    "    for item in station_data:\n",
    "        print(item)\n",
    "except Exception as e:\n",
    "    print('찾는 데이터가 없습니다.')"
   ]
  },
  {
   "attachments": {},
   "cell_type": "markdown",
   "metadata": {},
   "source": [
    "### OpenAPI로 가져온 데이터 지도 표시\n",
    "\n",
    "```python\n",
    "stop_str = '<h4>' + item['stationLoc'] + '</h4>' + item['stationNum'] + '<br>' + item['addr']\n",
    "```\n",
    "- 문제점\n",
    "    - 딕셔너리 구조하고 문자열 포맷팅 f'{}' 호환 안됨.\n",
    "    - 구식방법인 문자열 결합방식으로 해결\n"
   ]
  },
  {
   "cell_type": "code",
   "execution_count": null,
   "metadata": {},
   "outputs": [],
   "source": [
    "import folium\n",
    "\n",
    "if len(station_data) > 0: # 정류소 중 제일 첫번째 인덱스 정류소 위경도를 중심으로 잡음\n",
    "    center_lat = station_data[0]['lat']\n",
    "    center_lng = station_data[0]['lng']\n",
    "\n",
    "m = folium.Map(location=[center_lat, center_lng], zoom_start=13)\n",
    "\n",
    "# 전체 정류소 위치값 마커 표시\n",
    "for item in station_data:\n",
    "    stop_str = '<h4>' + item['stationLoc'] + '</h4>' + item['stationNum'] + '<br>' + item['addr']\n",
    "    iframe = folium.IFrame(stop_str)\n",
    "    popup = folium.Popup(iframe, min_width=200, max_width=200) # 팝업사이즈 지정\n",
    "    folium.Marker(location=[item['lat'], item['lng']], popup=popup,\n",
    "                  icon=folium.Icon(icon='pushpin')).add_to(m)\n",
    "\n",
    "m\n",
    "\n",
    "\n",
    "\n",
    "\n"
   ]
  },
  {
   "attachments": {},
   "cell_type": "markdown",
   "metadata": {},
   "source": [
    "### BeautifulSoup (version 4)\n",
    "\n",
    "웹크롤링을 편하게 해주는 도구(라이브러리)\n",
    "```\n",
    "!pip install beautifulsoup4\n",
    "```\n"
   ]
  },
  {
   "cell_type": "code",
   "execution_count": 59,
   "metadata": {},
   "outputs": [
    {
     "name": "stdout",
     "output_type": "stream",
     "text": [
      "Requirement already satisfied: beautifulsoup4 in c:\\source\\studypython2023\\venv\\lib\\site-packages (4.11.2)\n",
      "Requirement already satisfied: soupsieve>1.2 in c:\\source\\studypython2023\\venv\\lib\\site-packages (from beautifulsoup4) (2.3.2.post1)\n"
     ]
    },
    {
     "name": "stderr",
     "output_type": "stream",
     "text": [
      "\n",
      "[notice] A new release of pip available: 22.3.1 -> 23.0\n",
      "[notice] To update, run: python.exe -m pip install --upgrade pip\n"
     ]
    }
   ],
   "source": [
    "!pip install beautifulsoup4"
   ]
  },
  {
   "attachments": {},
   "cell_type": "markdown",
   "metadata": {},
   "source": [
    "#### 모듈 import\n",
    "\n",
    "```python\n",
    "from bs4 import BeautifulSoup\n",
    "```"
   ]
  },
  {
   "cell_type": "code",
   "execution_count": 69,
   "metadata": {},
   "outputs": [
    {
     "name": "stdout",
     "output_type": "stream",
     "text": [
      "제임스웹 우주망원경 질문이요\n",
      "최고고도 부탁드립니다. 제임스웹 망원경이\n",
      "제임스 웹 망원경 우주사진 원본 어디서... \n",
      "제임스 웹 망원경\n",
      "제임스 웹 망원경 촬영 원리\n",
      "제임스 웹 우주망원경이 찍은 첫 사진은... \n",
      "제임스 웹 망원경의 종류 알려주세요\n",
      "제임스 웹 우주망원경\n",
      "제임스웹 망원경\n",
      "제임스 웹 우주 망원경 제작 기간이\n"
     ]
    }
   ],
   "source": [
    "from bs4 import BeautifulSoup\n",
    "import requests\n",
    "\n",
    "url = 'https://kin.naver.com/search/list.naver?query=%EC%A0%9C%EC%9E%84%EC%8A%A4+%EC%9B%B9+%EB%A7%9D%EC%9B%90%EA%B2%BD'\n",
    "\n",
    "response = requests.get(url)\n",
    "\n",
    "if response.status_code == 200: # webpage OK\n",
    "    html = response.text\n",
    "    soup = BeautifulSoup(html, 'html.parser')\n",
    "    ul = soup.select_one('ul.basic1')\n",
    "    titles = ul.select('li > dl > dt > a')\n",
    "    for title in titles:\n",
    "        print(title.get_text())\n",
    "else:\n",
    "    print(f'Error : {response.status_code}')"
   ]
  },
  {
   "cell_type": "code",
   "execution_count": null,
   "metadata": {},
   "outputs": [],
   "source": []
  },
  {
   "cell_type": "code",
   "execution_count": null,
   "metadata": {},
   "outputs": [],
   "source": []
  },
  {
   "cell_type": "code",
   "execution_count": null,
   "metadata": {},
   "outputs": [],
   "source": []
  }
 ],
 "metadata": {
  "kernelspec": {
   "display_name": "venv",
   "language": "python",
   "name": "python3"
  },
  "language_info": {
   "codemirror_mode": {
    "name": "ipython",
    "version": 3
   },
   "file_extension": ".py",
   "mimetype": "text/x-python",
   "name": "python",
   "nbconvert_exporter": "python",
   "pygments_lexer": "ipython3",
   "version": "3.11.1"
  },
  "orig_nbformat": 4,
  "vscode": {
   "interpreter": {
    "hash": "1732cc55dde7803caebda0df0f1738cc035ced225322b7cf344f368c2c40d995"
   }
  }
 },
 "nbformat": 4,
 "nbformat_minor": 2
}
