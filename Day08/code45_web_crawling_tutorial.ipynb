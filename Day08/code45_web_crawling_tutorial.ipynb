{
 "cells": [
  {
   "attachments": {},
   "cell_type": "markdown",
   "metadata": {},
   "source": [
    "## 웹 크롤링\n",
    "\n",
    "### 인터넷 접속 라이브러리 추가\n",
    "\n",
    "- urllic.request 모듈로 작업\n",
    "- html 소스로"
   ]
  },
  {
   "cell_type": "code",
   "execution_count": 75,
   "metadata": {},
   "outputs": [
    {
     "name": "stdout",
     "output_type": "stream",
     "text": [
      "부산의 현재 기온은 11.4˚C 입니다.\n",
      "부산의 현재 습도는 23% 입니다.\n"
     ]
    }
   ],
   "source": [
    "# web_crawling\n",
    "from urllib.request import urlopen, Request\n",
    "\n",
    "# 도시별 날씨 검색함수\n",
    "def get_weather(city):\n",
    "\n",
    "    # 기상청 홈페이지 도시별 날씨 페이지\n",
    "    url = 'https://www.weather.go.kr/w/obs-climate/land/city-obs.do'\n",
    "    page = urlopen(url=url)\n",
    "\n",
    "    text = page.read().decode('utf-8')\n",
    "    text = text[text.find(f'>{city}</a>'):]\n",
    "\n",
    "    # 기온 가져오기\n",
    "    for i in range(7): # (반복문 13번 돌기)\n",
    "        text = text[text.find('<td>')+1:]\n",
    "\n",
    "    start = 3\n",
    "    end = text.find('</td>')\n",
    "    current_temp = text[start:end]\n",
    "    print(f'{city}의 현재 기온은 {current_temp}˚C 입니다.')\n",
    "\n",
    "    # 습도 가져오기\n",
    "    for i in range(3):\n",
    "        text = text[text.find('<td>')+1:]\n",
    "\n",
    "    start = 3\n",
    "    end = text.find('</td>')\n",
    "    current_humid = text[start:end]\n",
    "    print(f'{city}의 현재 습도는 {current_humid}% 입니다.')\n",
    "\n",
    "get_weather('부산')\n"
   ]
  },
  {
   "attachments": {},
   "cell_type": "markdown",
   "metadata": {},
   "source": [
    "### Open API 크롤링\n",
    "\n",
    "- 공공데이터 포털\n",
    "    - https://www.data.go.kr\n",
    "    - 부산광역시 버스정보안내기 현황\n",
    "\n",
    "```python\n",
    "response = requests.get(total_url, verify=False)\n",
    "```\n",
    "- 문제점\n",
    "    - https를 일반 requesr로 부르면 SSL 오류발생\n",
    "    - 해결하려면 외부모듈 requests를 사용, verify=False 옵션을 지정\n",
    "    - 아래 셀의 19번 라인!\n"
   ]
  },
  {
   "cell_type": "code",
   "execution_count": 76,
   "metadata": {},
   "outputs": [
    {
     "name": "stdout",
     "output_type": "stream",
     "text": [
      "{'stationNum': '07006', 'stationLoc': '경성대.부경대역', 'lat': '35.13856124', 'lng': '129.1023074', 'addr': '남구 대연3동 93-7', 'insYear': '', 'dataDay': '2023-02-03'}\n",
      "{'stationNum': '07007', 'stationLoc': '경성대.부경대역', 'lat': '35.13837971', 'lng': '129.1024864', 'addr': '남구 대연3동 90-2', 'insYear': '', 'dataDay': '2023-02-03'}\n",
      "{'stationNum': '07011', 'stationLoc': '부경대대연캠퍼스', 'lat': '35.13287689', 'lng': '129.1012804', 'addr': '남구 대연3동 531-2', 'insYear': '', 'dataDay': '2023-02-03'}\n",
      "{'stationNum': '07012', 'stationLoc': '부경대대연캠퍼스', 'lat': '35.13234515', 'lng': '129.1010586', 'addr': '남구 대연3동 537-1', 'insYear': '', 'dataDay': '2023-02-03'}\n"
     ]
    },
    {
     "name": "stderr",
     "output_type": "stream",
     "text": [
      "c:\\Source\\studyPython2023\\venv\\Lib\\site-packages\\urllib3\\connectionpool.py:1045: InsecureRequestWarning: Unverified HTTPS request is being made to host 'apis.data.go.kr'. Adding certificate verification is strongly advised. See: https://urllib3.readthedocs.io/en/1.26.x/advanced-usage.html#ssl-warnings\n",
      "  warnings.warn(\n"
     ]
    }
   ],
   "source": [
    "import requests\n",
    "from urllib.parse import quote, unquote, urlencode # 한글을 URLencode 변환하는 함수 (롯데 -> '%EB%A1%AF%EB%8D%B0')\n",
    "import json\n",
    "import ssl\n",
    "# stationName 정류소이름\n",
    "def getDataPortalSearch(stationName, type):\n",
    "    api_url = 'https://apis.data.go.kr/6260000/BusanTblBusinfoeqStusService/getTblBusinfoeqStusInfo'\n",
    "    queryString = \"?\" + urlencode(\n",
    "        {\n",
    "            'serviceKey': \"QV07JxJiPdVu/Sr88U+Hqgb+49h2kFTgYLR+jjBi7qUgzKHV0uqnZgEVFWkMXEO9SZUyIrQtNzbOETFkup9wTg==\",\n",
    "            'pageNo': '1',\n",
    "            'numOfRows': '10',\n",
    "            'resultType': type,\n",
    "            'stationLoc': stationName\n",
    "        }\n",
    "    )\n",
    "\n",
    "    total_url = api_url + queryString\n",
    "    response = requests.get(total_url, verify=False)\n",
    "    return response.text\n",
    "try:\n",
    "    result = getDataPortalSearch('부경대', 'json')\n",
    "    json_data = json.loads(result)\n",
    "\n",
    "    station_data = json_data['getTblBusinfoeqStusInfo']['body']['items']['item']\n",
    "\n",
    "    for item in station_data:\n",
    "        print(item)\n",
    "except Exception as e:\n",
    "    print('찾는 데이터가 없습니다.')"
   ]
  },
  {
   "attachments": {},
   "cell_type": "markdown",
   "metadata": {},
   "source": [
    "### OpenAPI로 가져온 데이터 지도 표시\n",
    "\n",
    "```python\n",
    "stop_str = '<h4>' + item['stationLoc'] + '</h4>' + item['stationNum'] + '<br>' + item['addr']\n",
    "```\n",
    "- 문제점\n",
    "    - 딕셔너리 구조하고 문자열 포맷팅 f'{}' 호환 안됨.\n",
    "    - 구식방법인 문자열 결합방식으로 해결\n"
   ]
  },
  {
   "cell_type": "code",
   "execution_count": 77,
   "metadata": {},
   "outputs": [
    {
     "data": {
      "text/html": [
       "<div style=\"width:100%;\"><div style=\"position:relative;width:100%;height:0;padding-bottom:60%;\"><span style=\"color:#565656\">Make this Notebook Trusted to load map: File -> Trust Notebook</span><iframe srcdoc=\"&lt;!DOCTYPE html&gt;\n",
       "&lt;html&gt;\n",
       "&lt;head&gt;\n",
       "    \n",
       "    &lt;meta http-equiv=&quot;content-type&quot; content=&quot;text/html; charset=UTF-8&quot; /&gt;\n",
       "    \n",
       "        &lt;script&gt;\n",
       "            L_NO_TOUCH = false;\n",
       "            L_DISABLE_3D = false;\n",
       "        &lt;/script&gt;\n",
       "    \n",
       "    &lt;style&gt;html, body {width: 100%;height: 100%;margin: 0;padding: 0;}&lt;/style&gt;\n",
       "    &lt;style&gt;#map {position:absolute;top:0;bottom:0;right:0;left:0;}&lt;/style&gt;\n",
       "    &lt;script src=&quot;https://cdn.jsdelivr.net/npm/leaflet@1.9.3/dist/leaflet.js&quot;&gt;&lt;/script&gt;\n",
       "    &lt;script src=&quot;https://code.jquery.com/jquery-1.12.4.min.js&quot;&gt;&lt;/script&gt;\n",
       "    &lt;script src=&quot;https://cdn.jsdelivr.net/npm/bootstrap@5.2.2/dist/js/bootstrap.bundle.min.js&quot;&gt;&lt;/script&gt;\n",
       "    &lt;script src=&quot;https://cdnjs.cloudflare.com/ajax/libs/Leaflet.awesome-markers/2.0.2/leaflet.awesome-markers.js&quot;&gt;&lt;/script&gt;\n",
       "    &lt;link rel=&quot;stylesheet&quot; href=&quot;https://cdn.jsdelivr.net/npm/leaflet@1.9.3/dist/leaflet.css&quot;/&gt;\n",
       "    &lt;link rel=&quot;stylesheet&quot; href=&quot;https://cdn.jsdelivr.net/npm/bootstrap@5.2.2/dist/css/bootstrap.min.css&quot;/&gt;\n",
       "    &lt;link rel=&quot;stylesheet&quot; href=&quot;https://netdna.bootstrapcdn.com/bootstrap/3.0.0/css/bootstrap.min.css&quot;/&gt;\n",
       "    &lt;link rel=&quot;stylesheet&quot; href=&quot;https://cdn.jsdelivr.net/npm/@fortawesome/fontawesome-free@6.2.0/css/all.min.css&quot;/&gt;\n",
       "    &lt;link rel=&quot;stylesheet&quot; href=&quot;https://cdnjs.cloudflare.com/ajax/libs/Leaflet.awesome-markers/2.0.2/leaflet.awesome-markers.css&quot;/&gt;\n",
       "    &lt;link rel=&quot;stylesheet&quot; href=&quot;https://cdn.jsdelivr.net/gh/python-visualization/folium/folium/templates/leaflet.awesome.rotate.min.css&quot;/&gt;\n",
       "    \n",
       "            &lt;meta name=&quot;viewport&quot; content=&quot;width=device-width,\n",
       "                initial-scale=1.0, maximum-scale=1.0, user-scalable=no&quot; /&gt;\n",
       "            &lt;style&gt;\n",
       "                #map_89bb978b3a28f080fb7210414d4a8877 {\n",
       "                    position: relative;\n",
       "                    width: 100.0%;\n",
       "                    height: 100.0%;\n",
       "                    left: 0.0%;\n",
       "                    top: 0.0%;\n",
       "                }\n",
       "                .leaflet-container { font-size: 1rem; }\n",
       "            &lt;/style&gt;\n",
       "        \n",
       "&lt;/head&gt;\n",
       "&lt;body&gt;\n",
       "    \n",
       "    \n",
       "            &lt;div class=&quot;folium-map&quot; id=&quot;map_89bb978b3a28f080fb7210414d4a8877&quot; &gt;&lt;/div&gt;\n",
       "        \n",
       "&lt;/body&gt;\n",
       "&lt;script&gt;\n",
       "    \n",
       "    \n",
       "            var map_89bb978b3a28f080fb7210414d4a8877 = L.map(\n",
       "                &quot;map_89bb978b3a28f080fb7210414d4a8877&quot;,\n",
       "                {\n",
       "                    center: [35.13856124, 129.1023074],\n",
       "                    crs: L.CRS.EPSG3857,\n",
       "                    zoom: 13,\n",
       "                    zoomControl: true,\n",
       "                    preferCanvas: false,\n",
       "                }\n",
       "            );\n",
       "\n",
       "            \n",
       "\n",
       "        \n",
       "    \n",
       "            var tile_layer_81fd57ad137c43492ed8e84876f548c9 = L.tileLayer(\n",
       "                &quot;https://{s}.tile.openstreetmap.org/{z}/{x}/{y}.png&quot;,\n",
       "                {&quot;attribution&quot;: &quot;Data by \\u0026copy; \\u003ca target=\\&quot;_blank\\&quot; href=\\&quot;http://openstreetmap.org\\&quot;\\u003eOpenStreetMap\\u003c/a\\u003e, under \\u003ca target=\\&quot;_blank\\&quot; href=\\&quot;http://www.openstreetmap.org/copyright\\&quot;\\u003eODbL\\u003c/a\\u003e.&quot;, &quot;detectRetina&quot;: false, &quot;maxNativeZoom&quot;: 18, &quot;maxZoom&quot;: 18, &quot;minZoom&quot;: 0, &quot;noWrap&quot;: false, &quot;opacity&quot;: 1, &quot;subdomains&quot;: &quot;abc&quot;, &quot;tms&quot;: false}\n",
       "            ).addTo(map_89bb978b3a28f080fb7210414d4a8877);\n",
       "        \n",
       "    \n",
       "            var marker_cd7e26fb2a90ca00e4d71cbf9f61d84a = L.marker(\n",
       "                [35.13856124, 129.1023074],\n",
       "                {}\n",
       "            ).addTo(map_89bb978b3a28f080fb7210414d4a8877);\n",
       "        \n",
       "    \n",
       "            var icon_617e9ee9189370e58c45fa60097f93c2 = L.AwesomeMarkers.icon(\n",
       "                {&quot;extraClasses&quot;: &quot;fa-rotate-0&quot;, &quot;icon&quot;: &quot;pushpin&quot;, &quot;iconColor&quot;: &quot;white&quot;, &quot;markerColor&quot;: &quot;blue&quot;, &quot;prefix&quot;: &quot;glyphicon&quot;}\n",
       "            );\n",
       "            marker_cd7e26fb2a90ca00e4d71cbf9f61d84a.setIcon(icon_617e9ee9189370e58c45fa60097f93c2);\n",
       "        \n",
       "    \n",
       "        var popup_59992bf8880a140ebe53741d0289c1f3 = L.popup({&quot;maxWidth&quot;: 200, &quot;minWidth&quot;: 200});\n",
       "\n",
       "        \n",
       "            \n",
       "                var i_frame_64e0a1504ce1713693f68e22620c0b49 = $(`&lt;div style=&quot;width:100%;&quot;&gt;&lt;div style=&quot;position:relative;width:100%;height:0;padding-bottom:60%;&quot;&gt;&lt;iframe src=&quot;data:text/html;charset=utf-8;base64,CiAgICA8aDQ+6rK97ISx64yALuu2gOqyveuMgOyXrTwvaDQ+MDcwMDY8YnI+64Ko6rWsIOuMgOyXsDPrj5kgOTMtNw==&quot; style=&quot;position:absolute;width:100%;height:100%;left:0;top:0;border:none !important;&quot;&gt;&lt;/iframe&gt;&lt;/div&gt;&lt;/div&gt;`)[0];\n",
       "                popup_59992bf8880a140ebe53741d0289c1f3.setContent(i_frame_64e0a1504ce1713693f68e22620c0b49);\n",
       "            \n",
       "        \n",
       "\n",
       "        marker_cd7e26fb2a90ca00e4d71cbf9f61d84a.bindPopup(popup_59992bf8880a140ebe53741d0289c1f3)\n",
       "        ;\n",
       "\n",
       "        \n",
       "    \n",
       "    \n",
       "            var marker_639e9f2da5d7a723fda475ea57a64e3c = L.marker(\n",
       "                [35.13837971, 129.1024864],\n",
       "                {}\n",
       "            ).addTo(map_89bb978b3a28f080fb7210414d4a8877);\n",
       "        \n",
       "    \n",
       "            var icon_d7eb56ab10ed2639e7440550c7cf852d = L.AwesomeMarkers.icon(\n",
       "                {&quot;extraClasses&quot;: &quot;fa-rotate-0&quot;, &quot;icon&quot;: &quot;pushpin&quot;, &quot;iconColor&quot;: &quot;white&quot;, &quot;markerColor&quot;: &quot;blue&quot;, &quot;prefix&quot;: &quot;glyphicon&quot;}\n",
       "            );\n",
       "            marker_639e9f2da5d7a723fda475ea57a64e3c.setIcon(icon_d7eb56ab10ed2639e7440550c7cf852d);\n",
       "        \n",
       "    \n",
       "        var popup_9679d80292bed92f29c474b3830ffeaf = L.popup({&quot;maxWidth&quot;: 200, &quot;minWidth&quot;: 200});\n",
       "\n",
       "        \n",
       "            \n",
       "                var i_frame_41790da7f5bc6ba99481fa6fc47db3d9 = $(`&lt;div style=&quot;width:100%;&quot;&gt;&lt;div style=&quot;position:relative;width:100%;height:0;padding-bottom:60%;&quot;&gt;&lt;iframe src=&quot;data:text/html;charset=utf-8;base64,CiAgICA8aDQ+6rK97ISx64yALuu2gOqyveuMgOyXrTwvaDQ+MDcwMDc8YnI+64Ko6rWsIOuMgOyXsDPrj5kgOTAtMg==&quot; style=&quot;position:absolute;width:100%;height:100%;left:0;top:0;border:none !important;&quot;&gt;&lt;/iframe&gt;&lt;/div&gt;&lt;/div&gt;`)[0];\n",
       "                popup_9679d80292bed92f29c474b3830ffeaf.setContent(i_frame_41790da7f5bc6ba99481fa6fc47db3d9);\n",
       "            \n",
       "        \n",
       "\n",
       "        marker_639e9f2da5d7a723fda475ea57a64e3c.bindPopup(popup_9679d80292bed92f29c474b3830ffeaf)\n",
       "        ;\n",
       "\n",
       "        \n",
       "    \n",
       "    \n",
       "            var marker_bb15c7b38b86d5e7ac3de2ebb562cc14 = L.marker(\n",
       "                [35.13287689, 129.1012804],\n",
       "                {}\n",
       "            ).addTo(map_89bb978b3a28f080fb7210414d4a8877);\n",
       "        \n",
       "    \n",
       "            var icon_1f4411c9d860d4d42fcf983f4dfd37ef = L.AwesomeMarkers.icon(\n",
       "                {&quot;extraClasses&quot;: &quot;fa-rotate-0&quot;, &quot;icon&quot;: &quot;pushpin&quot;, &quot;iconColor&quot;: &quot;white&quot;, &quot;markerColor&quot;: &quot;blue&quot;, &quot;prefix&quot;: &quot;glyphicon&quot;}\n",
       "            );\n",
       "            marker_bb15c7b38b86d5e7ac3de2ebb562cc14.setIcon(icon_1f4411c9d860d4d42fcf983f4dfd37ef);\n",
       "        \n",
       "    \n",
       "        var popup_4445c1564fd3f383fa8e022320dda0a0 = L.popup({&quot;maxWidth&quot;: 200, &quot;minWidth&quot;: 200});\n",
       "\n",
       "        \n",
       "            \n",
       "                var i_frame_51870e45908a6907197ddcf92cd700c9 = $(`&lt;div style=&quot;width:100%;&quot;&gt;&lt;div style=&quot;position:relative;width:100%;height:0;padding-bottom:60%;&quot;&gt;&lt;iframe src=&quot;data:text/html;charset=utf-8;base64,CiAgICA8aDQ+67aA6rK964yA64yA7Jew7Lqg7Y287IqkPC9oND4wNzAxMTxicj7rgqjqtawg64yA7JewM+uPmSA1MzEtMg==&quot; style=&quot;position:absolute;width:100%;height:100%;left:0;top:0;border:none !important;&quot;&gt;&lt;/iframe&gt;&lt;/div&gt;&lt;/div&gt;`)[0];\n",
       "                popup_4445c1564fd3f383fa8e022320dda0a0.setContent(i_frame_51870e45908a6907197ddcf92cd700c9);\n",
       "            \n",
       "        \n",
       "\n",
       "        marker_bb15c7b38b86d5e7ac3de2ebb562cc14.bindPopup(popup_4445c1564fd3f383fa8e022320dda0a0)\n",
       "        ;\n",
       "\n",
       "        \n",
       "    \n",
       "    \n",
       "            var marker_0e2400fbb9146992287932d5e85c8489 = L.marker(\n",
       "                [35.13234515, 129.1010586],\n",
       "                {}\n",
       "            ).addTo(map_89bb978b3a28f080fb7210414d4a8877);\n",
       "        \n",
       "    \n",
       "            var icon_50ee3fd4641f0b9f5d9802161dd52707 = L.AwesomeMarkers.icon(\n",
       "                {&quot;extraClasses&quot;: &quot;fa-rotate-0&quot;, &quot;icon&quot;: &quot;pushpin&quot;, &quot;iconColor&quot;: &quot;white&quot;, &quot;markerColor&quot;: &quot;blue&quot;, &quot;prefix&quot;: &quot;glyphicon&quot;}\n",
       "            );\n",
       "            marker_0e2400fbb9146992287932d5e85c8489.setIcon(icon_50ee3fd4641f0b9f5d9802161dd52707);\n",
       "        \n",
       "    \n",
       "        var popup_516508e4f554b22960b1aeb87fe92cc6 = L.popup({&quot;maxWidth&quot;: 200, &quot;minWidth&quot;: 200});\n",
       "\n",
       "        \n",
       "            \n",
       "                var i_frame_2b4750e088e0a9aa6afa4d3b7473230d = $(`&lt;div style=&quot;width:100%;&quot;&gt;&lt;div style=&quot;position:relative;width:100%;height:0;padding-bottom:60%;&quot;&gt;&lt;iframe src=&quot;data:text/html;charset=utf-8;base64,CiAgICA8aDQ+67aA6rK964yA64yA7Jew7Lqg7Y287IqkPC9oND4wNzAxMjxicj7rgqjqtawg64yA7JewM+uPmSA1MzctMQ==&quot; style=&quot;position:absolute;width:100%;height:100%;left:0;top:0;border:none !important;&quot;&gt;&lt;/iframe&gt;&lt;/div&gt;&lt;/div&gt;`)[0];\n",
       "                popup_516508e4f554b22960b1aeb87fe92cc6.setContent(i_frame_2b4750e088e0a9aa6afa4d3b7473230d);\n",
       "            \n",
       "        \n",
       "\n",
       "        marker_0e2400fbb9146992287932d5e85c8489.bindPopup(popup_516508e4f554b22960b1aeb87fe92cc6)\n",
       "        ;\n",
       "\n",
       "        \n",
       "    \n",
       "&lt;/script&gt;\n",
       "&lt;/html&gt;\" style=\"position:absolute;width:100%;height:100%;left:0;top:0;border:none !important;\" allowfullscreen webkitallowfullscreen mozallowfullscreen></iframe></div></div>"
      ],
      "text/plain": [
       "<folium.folium.Map at 0x21d221ebfd0>"
      ]
     },
     "execution_count": 77,
     "metadata": {},
     "output_type": "execute_result"
    }
   ],
   "source": [
    "import folium\n",
    "\n",
    "if len(station_data) > 0: # 정류소 중 제일 첫번째 인덱스 정류소 위경도를 중심으로 잡음\n",
    "    center_lat = station_data[0]['lat']\n",
    "    center_lng = station_data[0]['lng']\n",
    "\n",
    "m = folium.Map(location=[center_lat, center_lng], zoom_start=13)\n",
    "\n",
    "# 전체 정류소 위치값 마커 표시\n",
    "for item in station_data:\n",
    "    stop_str = '<h4>' + item['stationLoc'] + '</h4>' + item['stationNum'] + '<br>' + item['addr']\n",
    "    iframe = folium.IFrame(stop_str)\n",
    "    popup = folium.Popup(iframe, min_width=200, max_width=200) # 팝업사이즈 지정\n",
    "    folium.Marker(location=[item['lat'], item['lng']], popup=popup,\n",
    "                  icon=folium.Icon(icon='pushpin')).add_to(m)\n",
    "\n",
    "m\n",
    "\n",
    "\n",
    "\n",
    "\n"
   ]
  },
  {
   "attachments": {},
   "cell_type": "markdown",
   "metadata": {},
   "source": [
    "### BeautifulSoup (version 4)\n",
    "\n",
    "웹크롤링을 편하게 해주는 도구(라이브러리)\n",
    "```\n",
    "!pip install beautifulsoup4\n",
    "```\n"
   ]
  },
  {
   "cell_type": "code",
   "execution_count": 78,
   "metadata": {},
   "outputs": [
    {
     "name": "stdout",
     "output_type": "stream",
     "text": [
      "Requirement already satisfied: beautifulsoup4 in c:\\source\\studypython2023\\venv\\lib\\site-packages (4.11.2)\n",
      "Requirement already satisfied: soupsieve>1.2 in c:\\source\\studypython2023\\venv\\lib\\site-packages (from beautifulsoup4) (2.3.2.post1)\n"
     ]
    },
    {
     "name": "stderr",
     "output_type": "stream",
     "text": [
      "\n",
      "[notice] A new release of pip available: 22.3.1 -> 23.0\n",
      "[notice] To update, run: python.exe -m pip install --upgrade pip\n"
     ]
    }
   ],
   "source": [
    "!pip install beautifulsoup4"
   ]
  },
  {
   "attachments": {},
   "cell_type": "markdown",
   "metadata": {},
   "source": [
    "#### 모듈 import\n",
    "\n",
    "```python\n",
    "from bs4 import BeautifulSoup\n",
    "```"
   ]
  },
  {
   "cell_type": "code",
   "execution_count": 79,
   "metadata": {},
   "outputs": [
    {
     "name": "stdout",
     "output_type": "stream",
     "text": [
      "제임스웹 우주망원경 질문이요\n",
      "최고고도 부탁드립니다. 제임스웹 망원경이\n",
      "제임스 웹 망원경 우주사진 원본 어디서... \n",
      "제임스 웹 망원경\n",
      "제임스 웹 망원경 촬영 원리\n",
      "제임스 웹 우주망원경이 찍은 첫 사진은... \n",
      "제임스 웹 망원경의 종류 알려주세요\n",
      "제임스 웹 우주망원경\n",
      "제임스웹 망원경\n",
      "제임스 웹 우주 망원경 제작 기간이\n"
     ]
    }
   ],
   "source": [
    "from bs4 import BeautifulSoup\n",
    "import requests\n",
    "\n",
    "url = 'https://kin.naver.com/search/list.naver?query=%EC%A0%9C%EC%9E%84%EC%8A%A4+%EC%9B%B9+%EB%A7%9D%EC%9B%90%EA%B2%BD'\n",
    "\n",
    "response = requests.get(url)\n",
    "\n",
    "if response.status_code == 200: # webpage OK\n",
    "    html = response.text\n",
    "    soup = BeautifulSoup(html, 'html.parser')\n",
    "    ul = soup.select_one('ul.basic1')\n",
    "    titles = ul.select('li > dl > dt > a')\n",
    "    for title in titles:\n",
    "        print(title.get_text())\n",
    "else:\n",
    "    print(f'Error : {response.status_code}')"
   ]
  },
  {
   "cell_type": "code",
   "execution_count": null,
   "metadata": {},
   "outputs": [],
   "source": []
  },
  {
   "cell_type": "code",
   "execution_count": null,
   "metadata": {},
   "outputs": [],
   "source": []
  },
  {
   "cell_type": "code",
   "execution_count": null,
   "metadata": {},
   "outputs": [],
   "source": []
  }
 ],
 "metadata": {
  "kernelspec": {
   "display_name": "venv",
   "language": "python",
   "name": "python3"
  },
  "language_info": {
   "codemirror_mode": {
    "name": "ipython",
    "version": 3
   },
   "file_extension": ".py",
   "mimetype": "text/x-python",
   "name": "python",
   "nbconvert_exporter": "python",
   "pygments_lexer": "ipython3",
   "version": "3.11.1 (tags/v3.11.1:a7a450f, Dec  6 2022, 19:58:39) [MSC v.1934 64 bit (AMD64)]"
  },
  "orig_nbformat": 4,
  "vscode": {
   "interpreter": {
    "hash": "1732cc55dde7803caebda0df0f1738cc035ced225322b7cf344f368c2c40d995"
   }
  }
 },
 "nbformat": 4,
 "nbformat_minor": 2
}
