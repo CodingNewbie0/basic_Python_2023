{
 "cells": [
  {
   "attachments": {},
   "cell_type": "markdown",
   "metadata": {},
   "source": [
    "## 첫번째 주피터 노트북"
   ]
  },
  {
   "cell_type": "code",
   "execution_count": 2,
   "metadata": {},
   "outputs": [
    {
     "name": "stdout",
     "output_type": "stream",
     "text": [
      "Hello, Jupyter\n"
     ]
    }
   ],
   "source": [
    "# 여기는 주석입니다.\n",
    "print('Hello, Jupyter')"
   ]
  },
  {
   "cell_type": "code",
   "execution_count": 3,
   "metadata": {},
   "outputs": [
    {
     "name": "stdout",
     "output_type": "stream",
     "text": [
      "0 출력\n",
      "1 출력\n",
      "2 출력\n",
      "3 출력\n",
      "4 출력\n",
      "5 출력\n",
      "6 출력\n",
      "7 출력\n",
      "8 출력\n",
      "9 출력\n"
     ]
    }
   ],
   "source": [
    "for i in range(10):\n",
    "    print(f'{i} 출력')"
   ]
  }
 ],
 "metadata": {
  "kernelspec": {
   "display_name": "venv",
   "language": "python",
   "name": "python3"
  },
  "language_info": {
   "codemirror_mode": {
    "name": "ipython",
    "version": 3
   },
   "file_extension": ".py",
   "mimetype": "text/x-python",
   "name": "python",
   "nbconvert_exporter": "python",
   "pygments_lexer": "ipython3",
   "version": "3.11.1 (tags/v3.11.1:a7a450f, Dec  6 2022, 19:58:39) [MSC v.1934 64 bit (AMD64)]"
  },
  "orig_nbformat": 4,
  "vscode": {
   "interpreter": {
    "hash": "1732cc55dde7803caebda0df0f1738cc035ced225322b7cf344f368c2c40d995"
   }
  }
 },
 "nbformat": 4,
 "nbformat_minor": 2
}
